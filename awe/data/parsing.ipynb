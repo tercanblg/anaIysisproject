{
 "cells": [
  {
   "cell_type": "markdown",
   "metadata": {},
   "source": [
    "# HTML parsing\n",
    "\n",
    "This notebook explores some parsing issues."
   ]
  },
  {
   "cell_type": "code",
   "execution_count": null,
   "metadata": {},
   "outputs": [],
   "source": [
    "import awe.utils\n",
    "awe.utils.init_notebook()"
   ]
  },
  {
   "cell_type": "code",
   "execution_count": null,
   "metadata": {},
   "outputs": [],
   "source": [
    "import awe.data.parsing"
   ]
  },
  {
   "cell_type": "markdown",
   "metadata": {},
   "source": [
    "## Examples\n",
    "\n",
    "Some examples of selectors applied to HTML code."
   ]
  },
  {
   "cell_type": "code",
   "execution_count": null,
   "metadata": {},
   "outputs": [],
   "source": [
    "# BUG: This causes segfault in our HTML parser (Lexbor).\n",
    "# with open('data/swde/data/auto/auto-aol(2000)/0707-exact.htm', 'r', encoding='utf-8-sig') as f:\n",
    "#     html_text = f.read()\n",
    "# tree = awe.data.parsing.parse_html(html_text)\n",
    "# tree.css_first('#GF_more > div:nth-child(3) > ul > li:nth-child(3) > a').child.attrs"
   ]
  },
  {
   "cell_type": "code",
   "execution_count": null,
   "metadata": {},
   "outputs": [],
   "source": [
    "def find_in_html(css_selector: str, html_text: str):\n",
    "    tree = awe.data.parsing.parse_html(html_text)\n",
    "    nodes = tree.css(css_selector)\n",
    "    return [n.text() for n in nodes]"
   ]
  },
  {
   "cell_type": "code",
   "execution_count": null,
   "metadata": {},
   "outputs": [],
   "source": [
    "find_in_html('nav[aria-label=\"breadcrumb\"]', '<nav aria-label=\"breadcrumb\">nav-test</nav>')"
   ]
  },
  {
   "cell_type": "code",
   "execution_count": null,
   "metadata": {},
   "outputs": [],
   "source": [
    "find_in_html('section:has([data-testid=\"vertical-hero-carousel\"]) + section div.pb2',\n",
    "    '<section><div data-testid=\"vertical-hero-carousel\">div-section-1</div></section> <section><div class=\"pb2\">div-in-section2</div></section>')"
   ]
  },
  {
   "cell_type": "code",
   "execution_count": null,
   "metadata": {},
   "outputs": [],
   "source": []
  }
 ],
 "metadata": {
  "kernelspec": {
   "display_name": "Python 3 (ipykernel)",
   "language": "python",
   "name": "python3"
  },
  "language_info": {
   "codemirror_mode": {
    "name": "ipython",
    "version": 3
   },
   "file_extension": ".py",
   "mimetype": "text/x-python",
   "name": "python",
   "nbconvert_exporter": "python",
   "pygments_lexer": "ipython3",
   "version": "3.9.7"
  }
 },
 "nbformat": 4,
 "nbformat_minor": 2
}
