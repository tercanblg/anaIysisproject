{
 "cells": [
  {
   "cell_type": "markdown",
   "metadata": {},
   "source": [
    "# Inference\n",
    "\n",
    "This notebook is for development/testing of the inference server (`inference.py`).\n",
    "\n",
    "It is similar to the `training/training.ipynb` notebook,\n",
    "but uses a live page instead of one from the dataset."
   ]
  },
  {
   "cell_type": "code",
   "execution_count": null,
   "metadata": {},
   "outputs": [],
   "source": [
    "import awe.utils\n",
    "awe.utils.init_notebook()"
   ]
  },
  {
   "cell_type": "code",
   "execution_count": null,
   "metadata": {},
   "outputs": [],
   "source": [
    "import base64\n",
    "import json\n",
    "import os"
   ]
  },
  {
   "cell_type": "code",
   "execution_count": null,
   "metadata": {},
   "outputs": [],
   "source": [
    "import awe.data.set.live\n",
    "import awe.data.visual.exploration\n",
    "import awe.inference\n",
    "import awe.training.versioning\n",
    "import awe.training.params\n",
    "import awe.training.trainer\n",
    "awe.utils.reload('awe', exclude=['awe.data.glove'])"
   ]
  },
  {
   "cell_type": "code",
   "execution_count": null,
   "metadata": {},
   "outputs": [],
   "source": [
    "# Load trained version from a checkpoint.\n",
    "version = awe.training.versioning.Version.get_latest()\n",
    "checkpoint = version.get_checkpoints()[-1]\n",
    "params = awe.training.params.Params.load_version(version)\n",
    "params.patch_for_inference()\n",
    "print(f'{params=}')\n",
    "trainer = awe.training.trainer.Trainer(params)\n",
    "trainer.init_features()\n",
    "trainer.restore_checkpoint(checkpoint)\n",
    "trainer.restore_features()\n",
    "trainer.create_model()\n",
    "trainer.restore_model()"
   ]
  },
  {
   "cell_type": "code",
   "execution_count": null,
   "metadata": {},
   "outputs": [],
   "source": [
    "# Load inputs if they exist (can be saved from the visual extractor, see\n",
    "# `docs/dev/tips.md`).\n",
    "SCREENSHOT_PATH = 'data/screenshot.txt'\n",
    "if os.path.exists(SCREENSHOT_PATH):\n",
    "    with open(SCREENSHOT_PATH, mode='r', encoding='utf-8') as f:\n",
    "        screenshot = base64.b64decode(f.read())\n",
    "    print('Loaded screenshot.')\n",
    "else:\n",
    "    screenshot = None\n",
    "\n",
    "HTML_PATH = 'data/page.html'\n",
    "if os.path.exists(HTML_PATH):\n",
    "    with open(HTML_PATH, mode='r', encoding='utf-8') as f:\n",
    "        html_text = f.read()\n",
    "    print('Loaded HTML.')\n",
    "else:\n",
    "    html_text = '<html><body><b>b</b><i>i</i></body></html>'\n",
    "\n",
    "VISUALS_PATH = 'data/visuals.json'\n",
    "if os.path.exists(VISUALS_PATH):\n",
    "    with open(VISUALS_PATH, mode='r', encoding='utf-8') as f:\n",
    "        visuals_data = json.load(f)\n",
    "    print('Loaded visuals.')\n",
    "else:\n",
    "    visuals_data = {\"/html\":{\"/body\":{\"/b\":{\"/text()\":{\"box\":[0, 0, 1, 1]}},\"/i\":{\"/text()\":{\"box\":[1, 1, 2, 2]}}}}}"
   ]
  },
  {
   "cell_type": "code",
   "execution_count": null,
   "metadata": {},
   "outputs": [],
   "source": [
    "# Mock of a live page (working example needs visuals extracted by the Node.js\n",
    "# extractor).\n",
    "page = awe.data.set.live.Page(\n",
    "    index=0,\n",
    "    url='https://example.com/',\n",
    "    html_text=html_text,\n",
    "    visuals_data=visuals_data,\n",
    "    screenshot=screenshot,\n",
    ")"
   ]
  },
  {
   "cell_type": "code",
   "execution_count": null,
   "metadata": {},
   "outputs": [],
   "source": [
    "# Prepare features for the page.\n",
    "run = trainer.create_run([page], desc='live')"
   ]
  },
  {
   "cell_type": "code",
   "execution_count": null,
   "metadata": {},
   "outputs": [],
   "source": [
    "# Predict results for the page.\n",
    "preds = trainer.predict(run)\n",
    "trainer.decode(preds)"
   ]
  },
  {
   "cell_type": "code",
   "execution_count": null,
   "metadata": {},
   "outputs": [],
   "source": [
    "# Postprocess.\n",
    "preds = awe.inference.postprocess(preds)\n",
    "trainer.decode(preds)"
   ]
  },
  {
   "cell_type": "code",
   "execution_count": null,
   "metadata": {},
   "outputs": [],
   "source": [
    "# Plot screenshot with predicted nodes highlighted.\n",
    "if screenshot is not None:\n",
    "    page.fill_labels(trainer, preds)\n",
    "    awe.inference.plot_screenshot(page)"
   ]
  },
  {
   "cell_type": "code",
   "execution_count": null,
   "metadata": {},
   "outputs": [],
   "source": []
  }
 ],
 "metadata": {
  "interpreter": {
   "hash": "d4d1e4263499bec80672ea0156c357c1ee493ec2b1c70f0acce89fc37c4a6abe"
  },
  "kernelspec": {
   "display_name": "Python 3 (ipykernel)",
   "language": "python",
   "name": "python3"
  },
  "language_info": {
   "codemirror_mode": {
    "name": "ipython",
    "version": 3
   },
   "file_extension": ".py",
   "mimetype": "text/x-python",
   "name": "python",
   "nbconvert_exporter": "python",
   "pygments_lexer": "ipython3",
   "version": "3.9.7"
  }
 },
 "nbformat": 4,
 "nbformat_minor": 2
}
