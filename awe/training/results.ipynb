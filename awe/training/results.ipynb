{
 "cells": [
  {
   "cell_type": "markdown",
   "metadata": {},
   "source": [
    "# Results\n",
    "\n",
    "This notebook processes log files to plot result graphs (used for the thesis)."
   ]
  },
  {
   "cell_type": "code",
   "execution_count": null,
   "metadata": {},
   "outputs": [],
   "source": [
    "import awe.utils\n",
    "awe.utils.init_notebook()"
   ]
  },
  {
   "cell_type": "code",
   "execution_count": null,
   "metadata": {},
   "outputs": [],
   "source": [
    "import collections\n",
    "import json\n",
    "import math\n",
    "import os\n",
    "\n",
    "import pandas as pd\n",
    "import plotnine\n",
    "import yaml\n",
    "\n",
    "import awe.training.params\n",
    "import awe.training.versioning"
   ]
  },
  {
   "cell_type": "code",
   "execution_count": null,
   "metadata": {},
   "outputs": [],
   "source": [
    "# Create a common theme shared by plots.\n",
    "THEME = (plotnine.theme_538()\n",
    "    + plotnine.theme(\n",
    "        plot_background=plotnine.element_blank(),\n",
    "        panel_background=plotnine.element_blank(),\n",
    "    )\n",
    ")"
   ]
  },
  {
   "cell_type": "markdown",
   "metadata": {},
   "source": [
    "## Per-label results\n",
    "\n",
    "This part assumes that the logdir (`log/` in repository root by default)\n",
    "contains results of all final cross-validation experiments."
   ]
  },
  {
   "cell_type": "code",
   "execution_count": null,
   "metadata": {},
   "outputs": [],
   "source": [
    "# Get versions that have crossval results.\n",
    "versions = [\n",
    "    v for v in awe.training.versioning.Version.get_all()\n",
    "    if os.path.exists(v.get_results_path('crossval'))\n",
    "]\n",
    "versions"
   ]
  },
  {
   "cell_type": "code",
   "execution_count": null,
   "metadata": {},
   "outputs": [],
   "source": [
    "# Read version params.\n",
    "params = [\n",
    "    awe.training.params.Params.load_version(v)\n",
    "    for v in versions\n",
    "]"
   ]
  },
  {
   "cell_type": "code",
   "execution_count": null,
   "metadata": {},
   "outputs": [],
   "source": [
    "# Read crossval results.\n",
    "def read_results(version: awe.training.versioning.Version):\n",
    "    crossval_path = version.get_results_path('crossval')\n",
    "    with open(crossval_path, mode='r', encoding='utf-8') as f:\n",
    "        return json.load(f)\n",
    "results = [read_results(v) for v in versions]"
   ]
  },
  {
   "cell_type": "code",
   "execution_count": null,
   "metadata": {},
   "outputs": [],
   "source": [
    "# Gather data for the plot.\n",
    "F1_PREFIX = 'f1/label_'\n",
    "F1_EM_PREFIX = 'f1_em/label_'\n",
    "def transform_label(label: str):\n",
    "    label = label.removeprefix(F1_PREFIX).removeprefix(F1_EM_PREFIX)\n",
    "    if (idx := label.find('_')) >= 0:\n",
    "        label = label[:idx]\n",
    "    return label\n",
    "def get_target(p: awe.training.params.Params, k: str):\n",
    "    if p.dataset == awe.training.params.Dataset.swde:\n",
    "        return f'SWDE {p.vertical} (F1)'\n",
    "    if k.startswith(F1_EM_PREFIX):\n",
    "        return 'Apify product (EM)'\n",
    "    return 'Apify product (F1)'\n",
    "df = pd.DataFrame([\n",
    "    {\n",
    "        'label': transform_label(k),\n",
    "        'target': get_target(p, k),\n",
    "        'model': 'ours' if p.load_visuals else 'baseline',\n",
    "        'f1': round(v['mean'] * 100),\n",
    "        'std': round(v['std'] * 100),\n",
    "    }\n",
    "    for p, result in zip(params, results)\n",
    "    for k, v in result.items()\n",
    "    if k.startswith(F1_PREFIX) or k.startswith(F1_EM_PREFIX)\n",
    "])\n",
    "df.sort_values(by='model', ascending=False, inplace=True)\n",
    "df"
   ]
  },
  {
   "cell_type": "code",
   "execution_count": null,
   "metadata": {},
   "outputs": [],
   "source": [
    "plot = (plotnine.ggplot(df, plotnine.aes(x='label', y='f1', fill='model'))\n",
    "    + plotnine.geom_col(stat='identity', position='dodge')\n",
    "    + plotnine.geom_text(plotnine.aes(label='f1'),\n",
    "        position=plotnine.position_dodge(width=0.9),\n",
    "        size=8,\n",
    "        va='bottom',\n",
    "        color='#555555',\n",
    "    )\n",
    "    + plotnine.facet_wrap('target', scales='free_x')\n",
    "    + plotnine.ylim(0, 105)\n",
    "    + plotnine.scale_fill_manual(('#999999', '#0072B2'))\n",
    "    + THEME\n",
    "    + plotnine.theme(\n",
    "        axis_title_x=plotnine.element_blank(),\n",
    "        axis_title_y=plotnine.element_blank(),\n",
    "        subplots_adjust={'hspace': 0.4, 'wspace': 0.2},\n",
    "        legend_position='top',\n",
    "        legend_title=plotnine.element_blank(),\n",
    "    )\n",
    ")\n",
    "plot"
   ]
  },
  {
   "cell_type": "code",
   "execution_count": null,
   "metadata": {},
   "outputs": [],
   "source": [
    "plot.save('data/labels.pdf')"
   ]
  },
  {
   "cell_type": "markdown",
   "metadata": {},
   "source": [
    "## Results table\n",
    "\n",
    "This part generates rows for the results table in the thesis\n",
    "according to real logs.\n",
    "Assumptions are the same as in the previous section."
   ]
  },
  {
   "cell_type": "code",
   "execution_count": null,
   "metadata": {},
   "outputs": [],
   "source": [
    "# Generate rows with our results for the thesis (`tab/results.tex`).\n",
    "F1_PAGE = 'f1/page'\n",
    "F1_EM_PAGE = 'f1_em/page'\n",
    "def repr_result(result: dict[str, float]):\n",
    "    value = round(result['mean'] * 100)\n",
    "    std = round(result['std'] * 100)\n",
    "    return f'${value} \\pm {std}$'\n",
    "def find_result(metric: str, ours: bool, dataset: str = 'swde', vertical: str = None):\n",
    "    return next(\n",
    "        r[metric]\n",
    "        for p, r in zip(params, results)\n",
    "        if (\n",
    "            (not dataset or dataset == p.dataset) and\n",
    "            (not vertical or vertical == p.vertical) and\n",
    "            p.load_visuals == ours\n",
    "        )\n",
    "    )\n",
    "def mean_with_std(result_1: dict[str, float], result_2: dict[str, float]):\n",
    "    var_1 = result_1['std'] ** 2\n",
    "    var_2 = result_2['std'] ** 2\n",
    "    mean_var = (var_1 + var_2) / 2\n",
    "    return {\n",
    "        'mean': (result_1['mean'] + result_2['mean']) / 2,\n",
    "        'std': math.sqrt(mean_var)\n",
    "    }\n",
    "df = pd.DataFrame([\n",
    "    {\n",
    "        'model': 'ours' if ours else 'baseline',\n",
    "        'year': '2022' if ours else '',\n",
    "        'auto': repr_result(auto := find_result(F1_PAGE, ours, vertical='auto')),\n",
    "        'job': repr_result(job := find_result(F1_PAGE, ours, vertical='job')),\n",
    "        'mean': repr_result(mean_with_std(auto, job)),\n",
    "        'apify (F1)': repr_result(find_result(F1_PAGE, ours, dataset='apify')),\n",
    "        'apify (EM)': repr_result(find_result(F1_EM_PAGE, ours, dataset='apify')),\n",
    "    }\n",
    "    for ours in [False, True]\n",
    "])\n",
    "df"
   ]
  },
  {
   "cell_type": "code",
   "execution_count": null,
   "metadata": {},
   "outputs": [],
   "source": [
    "# Convert to LaTeX code ready to copy & paste into the thesis.\n",
    "for row in df.iloc:\n",
    "    for idx, cell in enumerate(row):\n",
    "        if idx != 0:\n",
    "            print('&', end=' ')\n",
    "        print(cell, end=' ')\n",
    "    print('\\\\\\\\')"
   ]
  },
  {
   "cell_type": "markdown",
   "metadata": {},
   "source": [
    "## SWDE visuals\n",
    "\n",
    "This part generates a plot with counts of visual pages in the SWDE dataset.\n",
    "It assumes existence of the manually-created file `visual_pages.yaml`\n",
    "(which can be obtained from the\n",
    "[`swde-visual` GitHub repository](https://github.com/jjonescz/swde-visual))."
   ]
  },
  {
   "cell_type": "code",
   "execution_count": null,
   "metadata": {},
   "outputs": [],
   "source": [
    "# The file comes from https://github.com/jjonescz/swde-visual.\n",
    "with open('data/swde/visual_pages.yaml', mode='r', encoding='utf-8') as f:\n",
    "    swde_visual = yaml.safe_load(f)"
   ]
  },
  {
   "cell_type": "code",
   "execution_count": null,
   "metadata": {},
   "outputs": [],
   "source": [
    "# Count pages in each vertical.\n",
    "visual_counts = {\n",
    "    vertical: collections.Counter((\n",
    "        (\n",
    "            'none' if v == 'error' else v\n",
    "            for v in websites.values()\n",
    "        )\n",
    "    ))\n",
    "    for vertical, websites in swde_visual.items()\n",
    "}\n",
    "visual_counts"
   ]
  },
  {
   "cell_type": "code",
   "execution_count": null,
   "metadata": {},
   "outputs": [],
   "source": [
    "# Gather data for the plot.\n",
    "df = pd.DataFrame([\n",
    "    {\n",
    "        'vertical': vertical,\n",
    "        'category': category,\n",
    "        'websites': count,\n",
    "    }\n",
    "    for vertical, counts in visual_counts.items()\n",
    "    for category, count in counts.items()\n",
    "])\n",
    "df"
   ]
  },
  {
   "cell_type": "code",
   "execution_count": null,
   "metadata": {},
   "outputs": [],
   "source": [
    "plot = (plotnine.ggplot(df, plotnine.aes(x='vertical', y='websites', fill='category'))\n",
    "    + plotnine.scale_fill_manual(\n",
    "        labels=['full', 'partial', 'none'],\n",
    "        values=['#009E73', '#E69F00', '#D55E00'],\n",
    "    )\n",
    "    + plotnine.geom_col(stat='identity')\n",
    "    + plotnine.scale_y_discrete(limits=range(1, 11))\n",
    "    + THEME\n",
    "    + plotnine.theme(\n",
    "        axis_title_x=plotnine.element_blank(),\n",
    "        legend_title=plotnine.element_blank(),\n",
    "    )\n",
    ")\n",
    "plot"
   ]
  },
  {
   "cell_type": "code",
   "execution_count": null,
   "metadata": {},
   "outputs": [],
   "source": [
    "plot.save('data/visuals.pdf')"
   ]
  },
  {
   "cell_type": "code",
   "execution_count": null,
   "metadata": {},
   "outputs": [],
   "source": []
  }
 ],
 "metadata": {
  "kernelspec": {
   "display_name": "Python 3 (ipykernel)",
   "language": "python",
   "name": "python3"
  },
  "language_info": {
   "codemirror_mode": {
    "name": "ipython",
    "version": 3
   },
   "file_extension": ".py",
   "mimetype": "text/x-python",
   "name": "python",
   "nbconvert_exporter": "python",
   "pygments_lexer": "ipython3",
   "version": "3.9.7"
  }
 },
 "nbformat": 4,
 "nbformat_minor": 2
}
